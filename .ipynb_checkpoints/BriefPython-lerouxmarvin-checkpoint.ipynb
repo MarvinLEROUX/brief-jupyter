{
 "cells": [
  {
   "cell_type": "markdown",
   "metadata": {
    "raw_mimetype": "text/markdown"
   },
   "source": [
    "# Découvrez Jupyter\n",
    "\n",
    "## [Veille] Expliquez moi ce qu’est pour vous Jupyter en Markdown en créant une nouvelle cellule dessous en quelques lignes\n"
   ]
  },
  {
   "cell_type": "markdown",
   "metadata": {},
   "source": [
    "Essayez d'ajouter une autre ligne de code dans la cellule ci-dessus et de la relancer.\n",
    "\n",
    "Maintenant : ajoutez une nouvelle cellule de code en cliquant sur +  et déplacez là avec les flèches\n",
    "\n"
   ]
  },
  {
   "cell_type": "markdown",
   "metadata": {},
   "source": [
    "# <i>Jupyter en Markdown </i>\n",
    "Jupyter en Markdown est un cahier document, peuvent rassembler du <i><b>texte</b>, des <b>images</b>, des <b>formules mathématiques</b> et du <b>code informatique</b> exécutable via un Notebook<i/>.\n",
    "On envoie des instructions Python dans les cellules.\n",
    "\n",
    "Il faut cependant indiquer à Jupyter que cette cellule est au format Markdown en __cliquant sur Code sous la barre de menu puis en choisissant Markdown__.\n",
    "\n",
    "Le format Markdown permet de rédiger du texte formaté (gras, italique, liens, titres, images, formules mathématiques...) avec quelques balises très simples. Voici un exemple dans une notebook Jupyter et le rendu lorsque la cellule est exécutée."
   ]
  },
  {
   "cell_type": "markdown",
   "metadata": {},
   "source": [
    "# Découvrez Python\n",
    "\n",
    "## [Veille] Qu’est-ce que Python ? Créez une réponse ci-dessous dans une nouvelle cellule\n"
   ]
  },
  {
   "cell_type": "markdown",
   "metadata": {},
   "source": [
    "# <i> Python </i>\n",
    "Le langage de programmation Python a été créé en <i>1989 par <b>Guido van Rossum</b></i>, aux Pays-Bas. Le nom Python vient d'un hommage à la série télévisée Monty Python's Flying Circus dont G. van Rossum est fan. La première version publique de ce langage a été publiée en <i>1991</i>.\n",
    "\n",
    "La dernière version de Python est la version 3. Plus précisément, la version 3.7 a été publiée en juin <i>2018</i>. La version 2 de Python est désormais obsolète et cessera d'être maintenue après le <i>1er janvier 2020</i>. Dans la mesure du possible évitez de l'utiliser.\n",
    "\n",
    "La Python Software Foundation est l'association qui organise le développement de Python et anime la communauté de développeurs et d'utilisateurs.\n",
    "\n",
    "Ce langage de programmation présente de nombreuses caractéristiques intéressantes :\n",
    "<ul>\n",
    "<li>Il est multiplateforme. C'est-à-dire qu'il fonctionne sur de nombreux systèmes d'exploitation : Windows, Mac OS X, Linux, Android, iOS, depuis les mini-ordinateurs Raspberry Pi jusqu'aux supercalculateurs.</li>\n",
    "<li>Il est gratuit. Vous pouvez l'installer sur autant d'ordinateurs que vous voulez (même sur votre téléphone !).</li>\n",
    "C'est un langage de haut niveau. Il demande relativement peu de connaissance sur le fonctionnement d'un ordinateur pour être utilisé.\n",
    "C'est un langage interprété. Un script Python n'a pas besoin d'être compilé pour être exécuté, contrairement à des langages comme le C ou le C++. </li>\n",
    "<li>Il est orienté objet. C'est-à-dire qu'il est possible de concevoir en Python des entités qui miment celles du monde réel (une cellule, une protéine, un atome, etc.) avec un certain nombre de règles de fonctionnement et d'interactions.</li>\n",
    "<li>Il est relativement simple à prendre en main1.</li>\n",
    "<li>Enfin, il est très utilisé en bioinformatique et plus généralement en analyse de données.</li>\n",
    "Toutes ces caractéristiques font que Python est désormais enseigné dans de nombreuses formations, depuis l'enseignement secondaire jusqu'à l'enseignement supérieur."
   ]
  },
  {
   "cell_type": "markdown",
   "metadata": {},
   "source": [
    "# Livrables\n",
    "\n",
    "## Pousser votre fichier Jupyter sur la page Organisation GitHub «Simplon Dev-Data Nantes» et dans le projet Python Jupyter (https://github.com/simplon-dev-data-nantes-2020/python-jupyter)\n"
   ]
  },
  {
   "cell_type": "code",
   "execution_count": null,
   "metadata": {},
   "outputs": [],
   "source": []
  }
 ],
 "metadata": {
  "celltoolbar": "Format de la Cellule Texte Brut",
  "kernelspec": {
   "display_name": "Python 3",
   "language": "python",
   "name": "python3"
  },
  "language_info": {
   "codemirror_mode": {
    "name": "ipython",
    "version": 3
   },
   "file_extension": ".py",
   "mimetype": "text/x-python",
   "name": "python",
   "nbconvert_exporter": "python",
   "pygments_lexer": "ipython3",
   "version": "3.8.6"
  }
 },
 "nbformat": 4,
 "nbformat_minor": 4
}
